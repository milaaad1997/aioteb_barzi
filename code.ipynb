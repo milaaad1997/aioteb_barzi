{
  "cells": [
    {
      "cell_type": "code",
      "execution_count": null,
      "metadata": {
        "id": "W5qvy_09kL4B"
      },
      "outputs": [],
      "source": [
        "!pip -q install rarfile"
      ]
    },
    {
      "cell_type": "code",
      "execution_count": null,
      "metadata": {
        "id": "emaND5QIkTEE"
      },
      "outputs": [],
      "source": [
        "import zipfile, os\n",
        "zip_ref=zipfile.ZipFile('fixed-15.zip','r')\n",
        "zip_ref.extractall('fixed')\n"
      ]
    },
    {
      "cell_type": "code",
      "execution_count": null,
      "metadata": {
        "colab": {
          "base_uri": "https://localhost:8080/"
        },
        "id": "w6MhmHt_ku9V",
        "outputId": "597b41da-fe69-4f98-95b5-7f3627f0ba47"
      },
      "outputs": [],
      "source": [
        "# مسیر ها رو برای ساینز بگه\n",
        "import os\n",
        "\n",
        "def find_signs_files(root_folder):\n",
        "    signs_files = []\n",
        "\n",
        "    for root, dirs, files in os.walk(root_folder):\n",
        "        if \"signs.txt\" in files:\n",
        "            signs_file_path = os.path.join(root, \"signs.txt\")\n",
        "            signs_files.append(signs_file_path)\n",
        "\n",
        "    return signs_files\n",
        "\n",
        "root_folder_path = \"fixed data\"\n",
        "\n",
        "signs_files_list = find_signs_files(root_folder_path)\n",
        "\n",
        "for signs_file_path in signs_files_list:\n",
        "    print(signs_file_path)"
      ]
    },
    {
      "cell_type": "code",
      "execution_count": null,
      "metadata": {
        "id": "YVx57uoCkz2c"
      },
      "outputs": [],
      "source": [
        "# مرتب سازی سطر و ستون نزولی\n",
        "\n",
        "import os\n",
        "import pandas as pd\n",
        "\n",
        "def find_and_parse_signs_files(root_folder):\n",
        "    results = {}\n",
        "\n",
        "    for root, dirs, files in os.walk(root_folder):\n",
        "        for file in files:\n",
        "            if file == \"signs.txt\":\n",
        "                file_path = os.path.join(root, file)\n",
        "                parsed_data = parse_signs_file(file_path)\n",
        "\n",
        "                disease_name = os.path.basename(os.path.dirname(os.path.dirname(file_path)))\n",
        "\n",
        "                results[disease_name] = parsed_data\n",
        "\n",
        "    return results\n",
        "\n",
        "def parse_signs_file(file_path):\n",
        "    result_list = []\n",
        "\n",
        "    try:\n",
        "        with open(file_path, 'r', encoding='utf-8') as file:\n",
        "            lines = file.readlines()\n",
        "\n",
        "            for line in lines:\n",
        "                if '.' in line and ':' in line and line.index('.') < line.index(':'):\n",
        "                    first_split = line.split('.')[1]\n",
        "                    final_result = first_split.split(':')[0].strip()\n",
        "                    final_result = final_result.replace('\\u200c', '')\n",
        "                    result_list.append(final_result)\n",
        "\n",
        "    except FileNotFoundError:\n",
        "        print(f\"خطا: فایل {file_path} یافت نشد.\")\n",
        "    except Exception as e:\n",
        "        print(f\"خطا: {e}\")\n",
        "\n",
        "    return result_list\n",
        "\n",
        "root_folder_path = \"fixed data\"\n",
        "\n",
        "result_dict = find_and_parse_signs_files(root_folder_path)\n",
        "\n",
        "df = pd.DataFrame()\n",
        "\n",
        "for disease_name, signs_list in result_dict.items():\n",
        "    for sign in signs_list:\n",
        "        df.loc[disease_name, sign] = 1\n",
        "\n",
        "df = df.fillna(0)\n",
        "\n",
        "# df.loc[\"سالم\", :] = 0\n",
        "\n",
        "df.to_csv('signs_t.csv')\n"
      ]
    },
    {
      "cell_type": "code",
      "execution_count": 3,
      "metadata": {
        "colab": {
          "base_uri": "https://localhost:8080/"
        },
        "id": "1yUtJ3KbYEDD",
        "outputId": "fdbf45c8-9ced-40e9-931d-fe8a70f324c9"
      },
      "outputs": [],
      "source": [
        "# مرتب سازی سطر و ستون\n",
        "\n",
        "import pandas as pd\n",
        "\n",
        "df = pd.read_csv('signs_t.csv', index_col=0)\n",
        "\n",
        "df_user = pd.DataFrame(index=df.index)\n",
        "\n",
        "n = int(input('enter how many quest: ')) # how many quest\n",
        "for i in range(n):\n",
        "\n",
        "    df = df.reindex(df.sum().sort_values(ascending=False).index, axis=1)\n",
        "\n",
        "    df = df.reindex(df.sum(axis=1).sort_values(ascending=False).index)\n",
        "\n",
        "    sign = df.columns[0]\n",
        "\n",
        "    answer = input(f'آیا شما علامت {sign} را دارید؟ (1: بله, 0: خیر)')\n",
        "\n",
        "    df_user[sign] = df[sign]\n",
        "    df_user.loc['user', sign] = answer\n",
        "\n",
        "    df = df.drop(columns=[sign])\n",
        "\n",
        "df_user.to_csv('signs_u.csv')"
      ]
    },
    {
      "cell_type": "code",
      "execution_count": 4,
      "metadata": {
        "colab": {
          "base_uri": "https://localhost:8080/"
        },
        "id": "JdkVsnFCmL5F",
        "outputId": "ed8154f4-882f-44f1-8d32-ba2327da04e9"
      },
      "outputs": [
        {
          "name": "stdout",
          "output_type": "stream",
          "text": [
            "100.00%: sang koliye\n",
            "100.00%: reflax mede\n",
            "70.71%: sardi mede\n",
            "70.71%: sharyanhaye kroneri\n",
            "57.74%: migren sard\n",
            "57.74%: high triglycerides\n",
            "44.72%: aritmy ghalb\n",
            "0.00%: high pressure\n",
            "0.00%: exema\n",
            "0.00%: high cholesterol\n",
            "0.00%: lupus\n",
            "0.00%: naresayi ghalb\n",
            "0.00%: saratan poost\n",
            "0.00%: sardi koliye\n",
            "0.00%: migren garm\n",
            "کاربر باید به پزشک مراجعه کند. بیماری ممکن: sang koliye\n"
          ]
        }
      ],
      "source": [
        "import pandas as pd\n",
        "from sklearn.metrics.pairwise import cosine_similarity\n",
        "\n",
        "data = pd.read_csv('signs_u.csv')\n",
        "\n",
        "data.set_index(data.columns[0], inplace=True)\n",
        "data = data.astype(float)\n",
        "\n",
        "csim = cosine_similarity(data)\n",
        "\n",
        "sim_df = pd.DataFrame(csim, index=data.index, columns=data.index)\n",
        "\n",
        "\n",
        "sorted_similarities = sim_df['user'].sort_values(ascending=False)\n",
        "\n",
        "sorted_similarities = (sorted_similarities * 100).drop('user')\n",
        "\n",
        "for index, value in sorted_similarities.items():\n",
        "    print(f'{value:.2f}%: {index}')\n",
        "\n",
        "max_similarity = sorted_similarities.max()\n",
        "if max_similarity < 40:\n",
        "    print('کاربر سالم است.')\n",
        "elif 40 <= max_similarity < 70:\n",
        "    print(f'کاربر مریض است. بیماری ممکن: {sorted_similarities.idxmax()}')\n",
        "else:\n",
        "    print(f'کاربر باید به پزشک مراجعه کند. بیماری ممکن: {sorted_similarities.idxmax()}')"
      ]
    }
  ],
  "metadata": {
    "colab": {
      "provenance": [],
      "toc_visible": true
    },
    "kernelspec": {
      "display_name": "Python 3",
      "name": "python3"
    },
    "language_info": {
      "codemirror_mode": {
        "name": "ipython",
        "version": 3
      },
      "file_extension": ".py",
      "mimetype": "text/x-python",
      "name": "python",
      "nbconvert_exporter": "python",
      "pygments_lexer": "ipython3",
      "version": "3.8.8"
    }
  },
  "nbformat": 4,
  "nbformat_minor": 0
}
